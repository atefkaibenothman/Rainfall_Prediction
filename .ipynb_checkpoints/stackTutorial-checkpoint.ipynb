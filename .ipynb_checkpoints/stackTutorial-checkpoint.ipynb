{
 "cells": [
  {
   "cell_type": "code",
   "execution_count": 1,
   "metadata": {
    "collapsed": true
   },
   "outputs": [],
   "source": [
    "import csv\n",
    "import random\n",
    "import numpy as np\n",
    "import matplotlib.pyplot as plt\n",
    "from sklearn.cross_validation import StratifiedKFold\n",
    "from sklearn.linear_model import LogisticRegression\n",
    "from sklearn.ensemble import RandomForestRegressor, ExtraTreesRegressor, GradientBoostingRegressor\n",
    "from sklearn.linear_model import RidgeCV\n",
    "\n",
    "%matplotlib inline"
   ]
  },
  {
   "cell_type": "code",
   "execution_count": 2,
   "metadata": {
    "collapsed": false,
    "scrolled": true
   },
   "outputs": [
    {
     "ename": "SyntaxError",
     "evalue": "invalid syntax (<ipython-input-2-45d91b69444e>, line 6)",
     "output_type": "error",
     "traceback": [
      "\u001b[0;36m  File \u001b[0;32m\"<ipython-input-2-45d91b69444e>\"\u001b[0;36m, line \u001b[0;32m6\u001b[0m\n\u001b[0;31m    def __init__(self, nt, nf*args, **kwargs):\u001b[0m\n\u001b[0m                             ^\u001b[0m\n\u001b[0;31mSyntaxError\u001b[0m\u001b[0;31m:\u001b[0m invalid syntax\n"
     ]
    }
   ],
   "source": [
    "\"\"\"\n",
    "\n",
    "\"\"\"\n",
    "\n",
    "class MyStack:\n",
    "    def __init__(self, nt, nf, *args, **kwargs):\n",
    "        self.n_trees = 10\n",
    "    \n",
    "        # stage 1 logistic classifier\n",
    "        self.LogReg = linear_model.LogisticRegression(C=10000.0, class_weight=None, dual=False,\n",
    "          fit_intercept=True, intercept_scaling=1, max_iter=1000,\n",
    "          multi_class='ovr', penalty='l2', random_state=None,\n",
    "          solver='liblinear', tol=0.00001, verbose=0)\n",
    "        \n",
    "        \n",
    "        # Our level 0 classifiers\n",
    "        self.clfs = [\n",
    "            RandomForestRegressor(n_estimators = self.n_trees, criterion = 'mse'),\n",
    "            ExtraTreesRegressor(n_estimators = self.n_trees * 2, criterion = 'mse'),\n",
    "            GradientBoostingRegressor(n_estimators = self.n_trees),\n",
    "        ]\n",
    "        \n",
    "        # Our level 1 regressor\n",
    "        self.ridge = RidgeCV(normalize = True, cv=nf)\n",
    "        \n",
    "        \n",
    "    def train(self, X_dev, Y_dev):\n",
    "        self.trainLogReg(self, X_dev, Y_dev)\n",
    "        X_s = X_dev[Y_dev>0]\n",
    "        Y_s = Y_dev[Y_dev>0]\n",
    "        self.trainStack(self, X_s, Y_s)\n",
    "        \n",
    "    \n",
    "    def trainLogReg(self, X_dev, Y_dev):\n",
    "        # y = 0: class 0; y > 0: class 1\n",
    "        Y_c = np.array(Y_dev > 0, dtype = 'int')\n",
    "        self.LogReg.fit(X_dev, Y_c)\n",
    "        \n",
    "        \n",
    "        \n",
    "    def trainStack(self, X_dev, Y_dev):\n",
    "        # outputs of level-0 classifiers    \n",
    "        blend_train = np.zeros((X_dev.shape[0], len(self.clfs))) # Number of training data x Number of classifiers\n",
    "            \n",
    "        for j, clf in enumerate(self.clfs):\n",
    "            print 'Training classifier [%s]' % (j)\n",
    "            clf.fit(X_dev, Y_dev)\n",
    "            blend_train[:, j] = clf.predict(X_dev)    \n",
    "                      \n",
    "        # blending\n",
    "        self.ridge.fit(blend_train, Y_dev)\n",
    "        \n",
    "        \n",
    "    def predict(self, X_dev):\n",
    "                \n",
    "        # stack prediction\n",
    "        blend = np.zeros((X_dev.shape[0], len(self.clfs))) # Number of training data x Number of classifiers\n",
    "        for j, clf in enumerate(self.clfs):\n",
    "            print 'Predicting using classifier [%s]' % (j)\n",
    "            blend[:, j] = clf.predict(X_dev)\n",
    "                    \n",
    "        Y_dev = self.ridge.predict(blend)\n",
    "        \n",
    "        # logistic regression prediction\n",
    "        Y_logReg = self.LogReg.predict(X_dev)\n",
    "        \n",
    "        # combine both prediction: if logistic regression says prediction is class 0, then set output y = 0\n",
    "        Y_dev = np.multiply(Y_dev, Y_logReg)\n",
    "        return Y_dev\n",
    "    \n",
    "\n",
    "    def mse(self, X_in, Y_in):\n",
    "        Y_hat = self.predict(X_in)\n",
    "        \n",
    "        return np.dot(Y_hat-Y_in, Y_hat-Y_in)/len(Y_hat)\n",
    "        \n",
    "    def predictPrintTest(self, X_test):\n",
    "        Y_test_predict = self.predict(X_test)\n",
    "    \n",
    "        fh = open('predictions.csv','w')    # open file for upload\n",
    "        fh.write('ID,Prediction\\n')         # output header line\n",
    "        for i,yi in enumerate(Y_test_predict):\n",
    "          fh.write('{},{}\\n'.format(i+1,yi)) # output each prediction\n",
    "        fh.close()  \n"
   ]
  },
  {
   "cell_type": "code",
   "execution_count": null,
   "metadata": {
    "collapsed": false
   },
   "outputs": [],
   "source": [
    "X = np.genfromtxt(\"Data/kaggle.X1.train.txt\",delimiter=',')\n",
    "Y = np.genfromtxt(\"Data/kaggle.Y.train.txt\",delimiter=',')\n",
    "X_test = np.genfromtxt(\"Data/kaggle.X1.test.txt\",delimiter=',')\n",
    "    \n",
    "X_dev = X[:10000,:]\n",
    "Y_dev = Y[:10000]\n",
    "\n",
    "X_val = X[1000:10000,:]\n",
    "Y_val = Y[1000:10000]"
   ]
  },
  {
   "cell_type": "code",
   "execution_count": 109,
   "metadata": {
    "collapsed": false
   },
   "outputs": [
    {
     "name": "stdout",
     "output_type": "stream",
     "text": [
      "Training classifier [0]\n",
      "Training classifier [1]\n",
      "Training classifier [2]\n"
     ]
    }
   ],
   "source": [
    "stk = MyStack()\n",
    "stk.trainLogReg(X_dev, Y_dev)\n",
    "stk.trainStack(X_dev, Y_dev)"
   ]
  },
  {
   "cell_type": "code",
   "execution_count": 59,
   "metadata": {
    "collapsed": false
   },
   "outputs": [],
   "source": [
    "mse = lambda x,y: np.dot(x-y, x-y)/len(x)"
   ]
  },
  {
   "cell_type": "code",
   "execution_count": 103,
   "metadata": {
    "collapsed": false
   },
   "outputs": [
    {
     "name": "stdout",
     "output_type": "stream",
     "text": [
      "Predicting using classifier [0]\n",
      "Predicting using classifier [1]\n",
      "Predicting using classifier [2]\n"
     ]
    },
    {
     "data": {
      "text/plain": [
       "0.40379176605089484"
      ]
     },
     "execution_count": 103,
     "metadata": {},
     "output_type": "execute_result"
    }
   ],
   "source": [
    "X_1 = X[20000:50000,:]\n",
    "Y_1 = Y[20000:50000]\n",
    "Y_hat = stk.predict(X_1)\n",
    "mse(Y_hat, Y_1)"
   ]
  },
  {
   "cell_type": "code",
   "execution_count": 97,
   "metadata": {
    "collapsed": false
   },
   "outputs": [
    {
     "name": "stdout",
     "output_type": "stream",
     "text": [
      "Predicting using classifier [0]\n",
      "Predicting using classifier [1]\n",
      "Predicting using classifier [2]\n"
     ]
    },
    {
     "data": {
      "text/plain": [
       "0.014499535788124364"
      ]
     },
     "execution_count": 97,
     "metadata": {},
     "output_type": "execute_result"
    }
   ],
   "source": []
  },
  {
   "cell_type": "code",
   "execution_count": 98,
   "metadata": {
    "collapsed": true
   },
   "outputs": [],
   "source": [
    "fh = open('test.csv','w')    # open file for upload\n",
    "fh.write('ID,Prediction\\n')         # output header line\n",
    "for i in range(len(Y_hat)):\n",
    "    fh.write('{},{}\\n'.format(Y_val[i], Y_hat[i])) # output each prediction\n",
    "fh.close()  "
   ]
  },
  {
   "cell_type": "code",
   "execution_count": 96,
   "metadata": {
    "collapsed": false
   },
   "outputs": [
    {
     "data": {
      "text/plain": [
       "0.88388888888888884"
      ]
     },
     "execution_count": 96,
     "metadata": {},
     "output_type": "execute_result"
    }
   ],
   "source": [
    "Y_c = np.array(Y_val>0, dtype = 'int')\n",
    "Y_c_hat = stk.LogReg.predict(X_val)\n",
    "stk.LogReg.score(X_val, Y_c)"
   ]
  },
  {
   "cell_type": "code",
   "execution_count": 86,
   "metadata": {
    "collapsed": false
   },
   "outputs": [
    {
     "data": {
      "text/plain": [
       "<matplotlib.collections.PathCollection at 0x10f1f7350>"
      ]
     },
     "execution_count": 86,
     "metadata": {},
     "output_type": "execute_result"
    },
    {
     "data": {
      "image/png": "[encoded data removed]",
      "text/plain": [
       "<matplotlib.figure.Figure at 0x10e9c9850>"
      ]
     },
     "metadata": {},
     "output_type": "display_data"
    }
   ],
   "source": [
    "plt.scatter(Y_val, Y_hat)"
   ]
  },
  {
   "cell_type": "code",
   "execution_count": 110,
   "metadata": {
    "collapsed": false
   },
   "outputs": [
    {
     "name": "stdout",
     "output_type": "stream",
     "text": [
      "Predicting using classifier [0]\n",
      "Predicting using classifier [1]\n",
      "Predicting using classifier [2]\n"
     ]
    }
   ],
   "source": [
    "stk.predictPrintTest(X_test)"
   ]
  },
  {
   "cell_type": "code",
   "execution_count": null,
   "metadata": {
    "collapsed": true
   },
   "outputs": [],
   "source": []
  }
 ],
 "metadata": {
  "kernelspec": {
   "display_name": "Python 2",
   "language": "python",
   "name": "python2"
  },
  "language_info": {
   "codemirror_mode": {
    "name": "ipython",
    "version": 2
   },
   "file_extension": ".py",
   "mimetype": "text/x-python",
   "name": "python",
   "nbconvert_exporter": "python",
   "pygments_lexer": "ipython2",
   "version": "2.7.9"
  }
 },
 "nbformat": 4,
 "nbformat_minor": 0
}

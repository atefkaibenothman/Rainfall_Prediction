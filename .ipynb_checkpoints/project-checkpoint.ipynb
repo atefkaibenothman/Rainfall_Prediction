{
 "cells": [
  {
   "cell_type": "markdown",
   "metadata": {},
   "source": [
    "# CS178 Project"
   ]
  },
  {
   "cell_type": "code",
   "execution_count": 6,
   "metadata": {
    "collapsed": false,
    "scrolled": true
   },
   "outputs": [],
   "source": [
    "# import library, module and training/evaluation data\n",
    "\n",
    "import numpy as np\n",
    "import matplotlib.pyplot as plt\n",
    "import mltools as ml\n",
    "from mltools import dtree\n",
    "%matplotlib inline\n",
    "\n",
    "\n",
    "# Note: file is comma-delimited\n",
    "X = np.genfromtxt(\"Data/kaggle.X1.train.txt\",delimiter=',')\n",
    "Y = np.genfromtxt(\"Data/kaggle.Y.train.txt\",delimiter=',')"
   ]
  },
  {
   "cell_type": "code",
   "execution_count": null,
   "metadata": {
    "collapsed": true
   },
   "outputs": [],
   "source": [
    "# cross validation template\n",
    "degree = [1, 3, 5, 7, 10, 18]\n",
    "MSE = np.zeros(len(degree))\n",
    "Phi = lambda t: ml.transforms.rescale( ml.transforms.fpoly(t, d, False), params)[0]\n",
    "\n",
    "for i,d in enumerate(degree):            \n",
    "    nFolds = 5;\n",
    "    J = np.zeros(nFolds)\n",
    "    for iFold in range(nFolds):\n",
    "        Xti,Xvi,Yti,Yvi = ml.crossValidate(Xtr,Ytr,nFolds,iFold);\n",
    "        XtiP = ml.transforms.fpoly(Xti, d, bias=False);\n",
    "        XtiP,params = ml.transforms.rescale(XtiP);\n",
    "        \n",
    "        lr = ml.linear.linearRegress(Phi(Xti), Yti)\n",
    "        J[iFold] = lr.mse(Phi(Xvi), Yvi)          \n",
    "    MSE[i] = np.mean(J)  \n",
    "    print d, MSE[i]\n"
   ]
  },
  {
   "cell_type": "code",
   "execution_count": 90,
   "metadata": {
    "collapsed": false
   },
   "outputs": [],
   "source": [
    "# random forest template\n",
    "# Load data set X, Y for training the ensemble...\n",
    "m, n = Xtr.shape\n",
    "mTe, nTe = Xte.shape\n",
    "nBag = 25\n",
    "ensemble = []    \n",
    "predict_tr = np.zeros( (m, nBag) )\n",
    "predict_te = np.zeros( (mTe, nBag) )\n",
    "\n",
    "# build ensemble[25]\n",
    "for i in range(nBag):\n",
    "    ind = np.floor( m * np.random.rand(m) ).astype(int) # Bootstrap sample a data set: \n",
    "    Xi, Yi = X[ind,:] , Y[ind] # select the data at those indices \n",
    "    dt = dtree.treeRegress(Xi,Yi, maxDepth = 10, minParent = 8, nFeatures = 50)\n",
    "    ensemble.append(dt) # Train a model on data Xi, Yi    \n",
    "    predict_tr[:, i] = np.ndarray.ravel(dt.predict(Xtr))\n",
    "    predict_te[:, i] = np.ndarray.ravel(dt.predict(Xte)) # Apply each classifier\n"
   ]
  },
  {
   "cell_type": "code",
   "execution_count": 92,
   "metadata": {
    "collapsed": false
   },
   "outputs": [
    {
     "data": {
      "text/plain": [
       "[<matplotlib.lines.Line2D at 0x10bf7a950>]"
      ]
     },
     "execution_count": 92,
     "metadata": {},
     "output_type": "execute_result"
    },
    {
     "data": {
      "image/png": "[encoded data removed]",
      "text/plain": [
       "<matplotlib.figure.Figure at 0x10bf7aa90>"
      ]
     },
     "metadata": {},
     "output_type": "display_data"
    }
   ],
   "source": [
    "# calculate training && validation error rate for different # of learners\n",
    "steps = [1, 5, 10, 25]\n",
    "err_Tr = np.zeros( (4, 1) )\n",
    "err_Te = np.zeros( (4, 1) )\n",
    "\n",
    "for i in range(4):\n",
    "    # training error rate:\n",
    "    Ytr_hat = np.mean(predict_tr[:, 0:steps[i]], axis = 1) > 0\n",
    "    err_Tr[i,0] = np.mean( (Ytr - Ytr_hat.reshape(Ytr.shape))**2 , axis=0)\n",
    "    # validation error rate:\n",
    "    Yte_hat = np.mean(predict_te[:, 0:steps[i]], axis = 1)\n",
    "    err_Te[i,0] = np.mean( (Yte - Yte_hat.reshape(Yte.shape))**2 , axis=0)\n",
    "\n",
    "# plot the training and validation error rate\n",
    "plt.plot(steps, err_Tr, c = 'r') # red curve: training error rate\n",
    "plt.plot(steps, err_Te, c = 'b') # blue curve: validation error rate"
   ]
  },
  {
   "cell_type": "markdown",
   "metadata": {},
   "source": [
    "(b) Predict the test data"
   ]
  },
  {
   "cell_type": "code",
   "execution_count": 93,
   "metadata": {
    "collapsed": false,
    "scrolled": true
   },
   "outputs": [
    {
     "name": "stdout",
     "output_type": "stream",
     "text": [
      "Writing finished!\n"
     ]
    }
   ],
   "source": [
    "# writing prediction data\n",
    "# Load data set X, Y for training the ensemble...\n",
    "m, n = Xtest.shape\n",
    "nBag = 6\n",
    "ensemble = []    \n",
    "predicts = np.zeros( (m, nBag) )\n",
    "Xtest = np.genfromtxt(\"data/kaggle.X1.test.txt\",delimiter=',')\n",
    "\n",
    "for i in range(nBag):\n",
    "    ind = np.floor( m * np.random.rand(m) ).astype(int) # Bootstrap sample a data set: \n",
    "    Xi, Yi = X[ind,:] , Y[ind] # select the data at those indices \n",
    "    dt = dtree.treeRegress(Xi,Yi, maxDepth = 10, minParent = 8, nFeatures = 50)\n",
    "    ensemble.append(dt) # Train a model on data Xi, Yi    \n",
    "    predicts[:, i] = np.ndarray.ravel(dt.predict(Xtest))\n",
    "\n",
    "\n",
    "Ye = np.mean(predicts, axis = 1)       # make predictions\n",
    "\n",
    "# Note: be sure Ye is a flat vector, shape (m,)\n",
    "# otherwise, reshape it or change the code below:\n",
    "\n",
    "fh = open('predictionsP3.csv','w')    # open file for upload\n",
    "fh.write('ID,Prediction\\n')         # output header line\n",
    "for i,yi in enumerate(Ye):\n",
    "  fh.write('{},{}\\n'.format(i+1,yi)) # output each prediction\n",
    "fh.close()  \n",
    "\n",
    "print 'Writing finished!'"
   ]
  }
 ],
 "metadata": {
  "kernelspec": {
   "display_name": "Python 2",
   "language": "python",
   "name": "python2"
  },
  "language_info": {
   "codemirror_mode": {
    "name": "ipython",
    "version": 2
   },
   "file_extension": ".py",
   "mimetype": "text/x-python",
   "name": "python",
   "nbconvert_exporter": "python",
   "pygments_lexer": "ipython2",
   "version": "2.7.9"
  }
 },
 "nbformat": 4,
 "nbformat_minor": 0
}

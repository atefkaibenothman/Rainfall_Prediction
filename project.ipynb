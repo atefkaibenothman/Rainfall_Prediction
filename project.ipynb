{
 "cells": [
  {
   "cell_type": "markdown",
   "metadata": {},
   "source": [
    "# CS178 Project"
   ]
  },
  {
   "cell_type": "code",
   "execution_count": 95,
   "metadata": {
    "collapsed": false,
    "scrolled": true
   },
   "outputs": [],
   "source": [
    "# import library, module and training/evaluation data\n",
    "\n",
    "import numpy as np\n",
    "import matplotlib.pyplot as plt\n",
    "import mltools as ml\n",
    "from mltools import dtree\n",
    "from mltools import cluster\n",
    "import mltools.logistic2 as lc2\n",
    "%matplotlib inline\n",
    "import pandas as pd\n",
    "import numpy as np\n",
    "from sklearn.cross_validation import KFold\n",
    "from sklearn import metrics\n",
    "from sklearn.ensemble import RandomForestRegressor, ExtraTreesRegressor, GradientBoostingRegressor\n",
    "from sklearn.linear_model import RidgeCV\n",
    "\n",
    "# Note: file is comma-delimited\n",
    "X = np.genfromtxt(\"Data/kaggle.X1.train.txt\",delimiter=',')\n",
    "Y = np.genfromtxt(\"Data/kaggle.Y.train.txt\",delimiter=',')\n",
    "Xtest = np.genfromtxt(\"data/kaggle.X1.test.txt\",delimiter=',')"
   ]
  },
  {
   "cell_type": "code",
   "execution_count": 96,
   "metadata": {
    "collapsed": true
   },
   "outputs": [],
   "source": [
    "n_trees = 30\n",
    "clfs = [\n",
    "        ExtraTreesRegressor(n_estimators = n_trees *2),\n",
    "        RandomForestRegressor(n_estimators = n_trees),\n",
    "        GradientBoostingRegressor(n_estimators = n_trees)\n",
    "    ]"
   ]
  },
  {
   "cell_type": "code",
   "execution_count": 97,
   "metadata": {
    "collapsed": false
   },
   "outputs": [],
   "source": [
    "\n",
    "X1,X2,Y1,Y2 = ml.splitData(X,Y,0.75)\n",
    "temp_results = np.zeros((  len(Y2)   ,len(clfs)    ))\n",
    "test1=np.zeros((  Xtest.shape[0]   ,len(clfs)    ))\n",
    "for i, clf in enumerate(clfs):\n",
    "    clf.fit(X1,Y1)\n",
    "    temp_results[:,i] = clf.predict(X2)\n",
    "    test1[:,i] = clf.predict(Xtest)"
   ]
  },
  {
   "cell_type": "code",
   "execution_count": 98,
   "metadata": {
    "collapsed": false
   },
   "outputs": [
    {
     "data": {
      "text/plain": [
       "RidgeCV(alphas=[0.0001, 0.005, 0.001, 0.005, 0.01, 0.05, 0.1, 0.5, 1.0, 5.0, 10.0, 50.0, 100.0, 500.0, 1000.0],\n",
       "    cv=5, fit_intercept=True, gcv_mode=None, normalize=True, scoring=None,\n",
       "    store_cv_values=False)"
      ]
     },
     "execution_count": 98,
     "metadata": {},
     "output_type": "execute_result"
    }
   ],
   "source": [
    "alphas = [0.0001, 0.005, 0.001, 0.005, 0.01, 0.05, 0.1, 0.5, 1.0, 5.0, 10.0, 50.0, 100.0, 500.0, 1000.0]\n",
    "\n",
    "bclf = RidgeCV(alphas=alphas, normalize=True, cv=5)\n",
    "bclf.fit(temp_results, Y2)\n"
   ]
  },
  {
   "cell_type": "code",
   "execution_count": 99,
   "metadata": {
    "collapsed": false
   },
   "outputs": [
    {
     "name": "stdout",
     "output_type": "stream",
     "text": [
      "Writing finished!\n"
     ]
    }
   ],
   "source": [
    "\n",
    "Ye = bclf.predict(test1)\n",
    "fh = open('predictionsP3.csv','w')    # open file for upload\n",
    "fh.write('ID,Prediction\\n')         # output header line\n",
    "for i,yi in enumerate(Ye):\n",
    "  fh.write('{},{}\\n'.format(i+1,yi)) # output each prediction\n",
    "fh.close()  \n",
    "\n",
    "print 'Writing finished!'"
   ]
  },
  {
   "cell_type": "code",
   "execution_count": null,
   "metadata": {
    "collapsed": true
   },
   "outputs": [],
   "source": []
  },
  {
   "cell_type": "code",
   "execution_count": null,
   "metadata": {
    "collapsed": true
   },
   "outputs": [],
   "source": []
  }
 ],
 "metadata": {
  "kernelspec": {
   "display_name": "Python 2",
   "language": "python",
   "name": "python2"
  },
  "language_info": {
   "codemirror_mode": {
    "name": "ipython",
    "version": 2
   },
   "file_extension": ".py",
   "mimetype": "text/x-python",
   "name": "python",
   "nbconvert_exporter": "python",
   "pygments_lexer": "ipython2",
   "version": "2.7.11"
  }
 },
 "nbformat": 4,
 "nbformat_minor": 0
}
